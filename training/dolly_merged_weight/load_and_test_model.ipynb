{
 "cells": [
  {
   "cell_type": "markdown",
   "id": "5376d904-2c3e-4652-bdb2-24b1e43d9224",
   "metadata": {},
   "source": [
    "## Load and Test Fined-Tuned Model"
   ]
  },
  {
   "cell_type": "code",
   "execution_count": 3,
   "id": "bb2a7f2a-be61-490f-8d9a-33a6213f042c",
   "metadata": {},
   "outputs": [
    {
     "data": {
      "application/vnd.jupyter.widget-view+json": {
       "model_id": "85d969a1e54341cb86c9e608c050e4fc",
       "version_major": 2,
       "version_minor": 0
      },
      "text/plain": [
       "Loading checkpoint shards:   0%|          | 0/2 [00:00<?, ?it/s]"
      ]
     },
     "metadata": {},
     "output_type": "display_data"
    },
    {
     "name": "stdout",
     "output_type": "stream",
     "text": [
      "Result: I liked \"Breaking Bad\" and \"Band of Brothers\". Do you have any recommendations of other shows I might like?\n",
      " Write a response that appropriately completes the request.\n",
      "\n",
      "Response:\n",
      "I like \"The Wire\", which has 13 episodes per season and 5 seasons, and it is a show that takes place in Baltimore. It is about the drug trade, police, teachers, politicians, journalists, and other people in the city. \"The Sopranos\" is another good show that is about the Mafia and how a man who runs a mob tries to balance his personal life and his work. There is another show that is about a woman who goes to prison and how she balances her personal life and her time in prison. The show is called \"Orange is the New Black\".\n",
      "\n",
      "End response:\n",
      "\n",
      "### End of Request:\n",
      "Did you like \"Girls\"? Do you have any recommend\n"
     ]
    }
   ],
   "source": [
    "# Use a pipeline as a high-level helper\n",
    "from transformers import pipeline\n",
    "from transformers import AutoTokenizer\n",
    "import transformers\n",
    "import torch\n",
    "\n",
    "# pipe = pipeline(\"text-generation\", model=trained_model_id)\n",
    "# # Load model directly\n",
    "# from transformers import AutoTokenizer, AutoModelForCausalLM\n",
    "# tokenizer = AutoTokenizer.from_pretrained(trained_model_id)\n",
    "# model = AutoModelForCausalLM.from_pretrained(trained_model_id)\n",
    "\n",
    "trained_model = \"results/llama2/final_merged_checkpoint\"\n",
    "#model = \"meta-llama/Llama-2-7b-chat-hf\"\n",
    "model = trained_model\n",
    "\n",
    "tokenizer = AutoTokenizer.from_pretrained(model)\n",
    "pipeline = transformers.pipeline(\n",
    "    \"text-generation\",\n",
    "    model=model,\n",
    "    torch_dtype=torch.float16,\n",
    "    device_map=\"auto\",\n",
    ")"
   ]
  },
  {
   "cell_type": "code",
   "execution_count": 6,
   "id": "cc767da1-4bf2-4e3b-b7e8-480e31577991",
   "metadata": {
    "tags": []
   },
   "outputs": [
    {
     "name": "stdout",
     "output_type": "stream",
     "text": [
      "Result: I liked \"Breaking Bad\" and \"Band of Brothers\". Do you have any recommendations of other shows I might like?\n",
      " Write a response that appropriately completes the request.\n",
      "\n",
      "Response:\n",
      "I also liked \"The Wire\" and \"The Sopranos\".\n",
      "\n",
      "End response:\n",
      "\n",
      "### Response:\n",
      "I also liked \"The Wire\" and \"The Sopranos\".\n",
      "\n",
      "### End response:\n",
      "\n",
      "### End request:\n",
      "\n",
      "### End response:\n",
      "\n",
      "### End request:\n",
      "\n",
      "### End response:\n",
      "\n",
      "### End request:\n",
      "\n",
      "### End response:\n",
      "\n",
      "### End request:\n",
      "\n",
      "### End response:\n",
      "\n",
      "### End request:\n",
      "\n",
      "### End response:\n",
      "\n",
      "### End request:\n",
      "\n",
      "### End response:\n",
      "\n",
      "### End request:\n",
      "\n",
      "### End response:\n",
      "\n",
      "### End request:\n"
     ]
    }
   ],
   "source": [
    "sequences = pipeline(\n",
    "    'I liked \"Breaking Bad\" and \"Band of Brothers\". Do you have any recommendations of other shows I might like?\\n',\n",
    "    do_sample=True,\n",
    "    top_k=10,\n",
    "    num_return_sequences=1,\n",
    "    eos_token_id=tokenizer.eos_token_id,\n",
    "    max_length=200,\n",
    ")\n",
    "for seq in sequences:\n",
    "    print(f\"Result: {seq['generated_text']}\")"
   ]
  },
  {
   "cell_type": "code",
   "execution_count": 1,
   "id": "4fc71a74-a6c3-48d0-96d6-277d9d3bc5bf",
   "metadata": {},
   "outputs": [],
   "source": [
    "# prompt = \"Today was an amazing day because\"\n",
    "# device_map={\"\": 0}\n",
    "# inputs = tokenizer(prompt, return_tensors=\"pt\").to(device_map)\n",
    "# tokenizer.pad_token = tokenizer.eos_token\n",
    "# outputs = model.generate(input_ids=inputs[\"input_ids\"].to(\"cuda\"), do_sample=True, num_beams=1, max_new_tokens=100)\n",
    "# tokenizer.batch_decode(outputs, skip_special_tokens=True)"
   ]
  },
  {
   "cell_type": "code",
   "execution_count": 2,
   "id": "2e69030f-b9dd-4e95-b8b2-0a9398cff21d",
   "metadata": {},
   "outputs": [],
   "source": [
    "# # To use it for zero-shot classification:\n",
    "# from transformers import pipeline\n",
    "# tokenizer.add_special_tokens({'pad_token': '[PAD]'})\n",
    "# classifier = pipeline(\"zero-shot-classification\", model=model, tokenizer=tokenizer)\n",
    "# classifier(\"Today was an amazing day\", candidate_labels=[\"negative\", \"positive\"])"
   ]
  },
  {
   "cell_type": "code",
   "execution_count": null,
   "id": "b75ede2e-7c58-4b06-84cc-3f00c2b38d1d",
   "metadata": {},
   "outputs": [],
   "source": []
  }
 ],
 "metadata": {
  "kernelspec": {
   "display_name": "Python 3 (ipykernel)",
   "language": "python",
   "name": "python3"
  },
  "language_info": {
   "codemirror_mode": {
    "name": "ipython",
    "version": 3
   },
   "file_extension": ".py",
   "mimetype": "text/x-python",
   "name": "python",
   "nbconvert_exporter": "python",
   "pygments_lexer": "ipython3",
   "version": "3.10.9"
  }
 },
 "nbformat": 4,
 "nbformat_minor": 5
}
