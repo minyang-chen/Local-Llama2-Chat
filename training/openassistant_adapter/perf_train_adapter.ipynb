{
 "cells": [
  {
   "cell_type": "markdown",
   "id": "8f199b8a-a84b-4203-9f87-8b15872c80d9",
   "metadata": {},
   "source": [
    "# Instruction fine-tuning Llama 2 with PEFT’s QLoRa method"
   ]
  },
  {
   "cell_type": "code",
   "execution_count": null,
   "id": "cf0b320f-128f-4834-8383-a4a8907199ee",
   "metadata": {
    "tags": []
   },
   "outputs": [],
   "source": [
    "# !pip install -q huggingface_hub\n",
    "# !pip install -q -U trl transformers accelerate peft\n",
    "# !pip install -q -U datasets bitsandbytes einops wandb\n",
    "# !pip install ipywidgets"
   ]
  },
  {
   "cell_type": "code",
   "execution_count": null,
   "id": "82df5a2a-b4cb-48e6-9a8f-427ccf17e39c",
   "metadata": {
    "tags": []
   },
   "outputs": [],
   "source": [
    "# Uncomment to install new features that support latest models like Llama 2\n",
    "# !pip install git+https://github.com/huggingface/peft.git\n",
    "# !pip install git+https://github.com/huggingface/transformers.git"
   ]
  },
  {
   "cell_type": "code",
   "execution_count": null,
   "id": "2e844f16-005d-4699-9dad-8694b40b6c7f",
   "metadata": {
    "tags": []
   },
   "outputs": [],
   "source": [
    "# When prompted, paste the HF access token you created earlier.\n",
    "from huggingface_hub import notebook_login\n",
    "notebook_login()"
   ]
  },
  {
   "cell_type": "code",
   "execution_count": null,
   "id": "828956be-81e6-4107-94d6-1f5cde26080f",
   "metadata": {
    "tags": []
   },
   "outputs": [],
   "source": [
    "from datasets import load_dataset\n",
    "import torch\n",
    "from transformers import AutoModelForCausalLM, BitsAndBytesConfig, AutoTokenizer, TrainingArguments\n",
    "from peft import LoraConfig\n",
    "from trl import SFTTrainer"
   ]
  },
  {
   "cell_type": "code",
   "execution_count": null,
   "id": "17f68ecd-2052-4b86-a469-0951e4950596",
   "metadata": {
    "tags": []
   },
   "outputs": [],
   "source": [
    "dataset_name = \"mychen76/small_openassistant-guanaco\"\n",
    "dataset = load_dataset(dataset_name, split=\"train\")\n",
    "\n",
    "base_model_name = \"meta-llama/Llama-2-7b-hf\"\n",
    "\n",
    "bnb_config = BitsAndBytesConfig(\n",
    "    load_in_4bit=True,\n",
    "    bnb_4bit_quant_type=\"nf4\",\n",
    "    bnb_4bit_compute_dtype=torch.float16,\n",
    ")"
   ]
  },
  {
   "cell_type": "code",
   "execution_count": null,
   "id": "43533f7e-af10-41fc-90fe-c2cd30e6394f",
   "metadata": {
    "tags": []
   },
   "outputs": [],
   "source": [
    "device_map = {\"\": 0}\n",
    "\n",
    "base_model = AutoModelForCausalLM.from_pretrained(\n",
    "    base_model_name,\n",
    "    quantization_config=bnb_config,\n",
    "    device_map=device_map,\n",
    "    trust_remote_code=True,\n",
    "    use_auth_token=True\n",
    ")\n",
    "base_model.config.use_cache = False\n",
    "\n",
    "# More info: https://github.com/huggingface/transformers/pull/24906\n",
    "base_model.config.pretraining_tp = 1 \n",
    "\n",
    "peft_config = LoraConfig(\n",
    "    lora_alpha=16,\n",
    "    lora_dropout=0.1,\n",
    "    r=64,\n",
    "    bias=\"none\",\n",
    "    task_type=\"CAUSAL_LM\",\n",
    ")\n"
   ]
  },
  {
   "cell_type": "code",
   "execution_count": null,
   "id": "4986ffe1-f9c7-455e-b6ce-3778d7c5e6ee",
   "metadata": {
    "tags": []
   },
   "outputs": [],
   "source": [
    "tokenizer = AutoTokenizer.from_pretrained(base_model_name, trust_remote_code=True)\n",
    "tokenizer.pad_token = tokenizer.eos_token\n",
    "\n",
    "output_dir = \"./results\"\n",
    "\n",
    "training_args = TrainingArguments(\n",
    "    output_dir=output_dir,\n",
    "    per_device_train_batch_size=4,\n",
    "    gradient_accumulation_steps=4,\n",
    "    learning_rate=2e-4,\n",
    "    logging_steps=10,\n",
    "    max_steps=500\n",
    ")\n",
    "\n",
    "max_seq_length = 512\n",
    "\n",
    "trainer = SFTTrainer(\n",
    "    model=base_model,\n",
    "    train_dataset=dataset,\n",
    "    peft_config=peft_config,\n",
    "    dataset_text_field=\"text\",\n",
    "    max_seq_length=max_seq_length,\n",
    "    tokenizer=tokenizer,\n",
    "    args=training_args,\n",
    ")\n",
    "\n",
    "trainer.train()"
   ]
  },
  {
   "cell_type": "code",
   "execution_count": null,
   "id": "4c3bf4b3-c5cb-4b5a-b139-e4d0e734150b",
   "metadata": {
    "tags": []
   },
   "outputs": [],
   "source": [
    "import os\n",
    "output_dir = os.path.join(output_dir, \"final_checkpoint\")\n",
    "trainer.model.save_pretrained(output_dir)"
   ]
  },
  {
   "cell_type": "markdown",
   "id": "24a498c5-dfd7-45b6-a075-c1f210a9af70",
   "metadata": {},
   "source": [
    "# Quick test fine-tuned model\n",
    "and dirty approach to load the model and do a sanity test."
   ]
  },
  {
   "cell_type": "code",
   "execution_count": null,
   "id": "784b616d-9c15-4c6c-b2d1-11c8c65f059c",
   "metadata": {
    "tags": []
   },
   "outputs": [],
   "source": [
    "from datasets import load_dataset\n",
    "import torch\n",
    "from transformers import AutoModelForCausalLM, BitsAndBytesConfig, AutoTokenizer, TrainingArguments\n",
    "from peft import LoraConfig\n",
    "from trl import SFTTrainer\n",
    "# Free memory for merging weights\n",
    "#del model\n",
    "#del trainer\n",
    "torch.cuda.empty_cache()\n",
    "output_dir='./results/final_checkpoint'\n",
    "device_map = {\"\": 0}\n",
    "from peft import AutoPeftModelForCausalLM\n",
    "\n",
    "base_model_name = \"meta-llama/Llama-2-7b-hf\"\n",
    "tokenizer = AutoTokenizer.from_pretrained(base_model_name, trust_remote_code=True)\n",
    "tokenizer.pad_token = tokenizer.eos_token\n",
    "model = AutoPeftModelForCausalLM.from_pretrained(output_dir, device_map=device_map, torch_dtype=torch.bfloat16)"
   ]
  },
  {
   "cell_type": "code",
   "execution_count": null,
   "id": "763b3c03-bafc-4b0b-bc5a-a2539e1c2223",
   "metadata": {
    "tags": []
   },
   "outputs": [],
   "source": [
    "text = \"what color is the sky?\"\n",
    "inputs = tokenizer(text, return_tensors=\"pt\").to(device_map)\n",
    "outputs = model.generate(input_ids=inputs[\"input_ids\"].to(\"cuda\"), attention_mask=inputs[\"attention_mask\"], max_new_tokens=50, pad_token_id=tokenizer.eos_token_id)\n",
    "\n",
    "print(tokenizer.decode(outputs[0], skip_special_tokens=True))"
   ]
  },
  {
   "cell_type": "code",
   "execution_count": null,
   "id": "21937283-4bf9-47af-bedb-31bce904d634",
   "metadata": {
    "tags": []
   },
   "outputs": [],
   "source": [
    "# Free memory for merging weights\n",
    "torch.cuda.empty_cache()   \n",
    "if model is not None:\n",
    "    del model\n",
    "if tokenizer is not None:\n",
    "    del tokenizer "
   ]
  },
  {
   "cell_type": "markdown",
   "id": "e21786e8-5b01-4089-906a-28d60025e550",
   "metadata": {},
   "source": [
    "## Load and Test Fined-Tuned Model"
   ]
  },
  {
   "cell_type": "code",
   "execution_count": 1,
   "id": "dbd4cded-ce15-4623-9a4d-7a1815341c7a",
   "metadata": {},
   "outputs": [
    {
     "name": "stdout",
     "output_type": "stream",
     "text": [
      "Starting to load the model meta-llama/Llama-2-7b-chat-hf into memory\n"
     ]
    },
    {
     "data": {
      "application/vnd.jupyter.widget-view+json": {
       "model_id": "517fb4bd11ca4484864209caa2bea789",
       "version_major": 2,
       "version_minor": 0
      },
      "text/plain": [
       "Loading checkpoint shards:   0%|          | 0/2 [00:00<?, ?it/s]"
      ]
     },
     "metadata": {},
     "output_type": "display_data"
    },
    {
     "name": "stdout",
     "output_type": "stream",
     "text": [
      "Successfully loaded the model meta-llama/Llama-2-7b-chat-hf into memory\n"
     ]
    }
   ],
   "source": [
    "## properway to load fine-tuned models\n",
    "import torch\n",
    "from peft import PeftModel    \n",
    "from transformers import AutoModelForCausalLM, AutoTokenizer, LlamaTokenizer, StoppingCriteria, StoppingCriteriaList, TextIteratorStreamer\n",
    "\n",
    "model_name = \"meta-llama/Llama-2-7b-chat-hf\"\n",
    "adapters_name = \"mychen76/Llama-2-7b-hf-guanaco-sm\"\n",
    "\n",
    "print(f\"Starting to load the model {model_name} into memory\")\n",
    "model = AutoModelForCausalLM.from_pretrained(\n",
    "    model_name,\n",
    "    #load_in_4bit=True,\n",
    "    torch_dtype=torch.bfloat16,\n",
    "    device_map={\"\": 0}\n",
    ")\n",
    "model = PeftModel.from_pretrained(model, adapters_name)\n",
    "model = model.merge_and_unload()\n",
    "tokenizer = LlamaTokenizer.from_pretrained(model_name)\n",
    "tokenizer.bos_token_id = 1\n",
    "stop_token_ids = [0]\n",
    "print(f\"Successfully loaded the model {model_name} into memory\")"
   ]
  },
  {
   "cell_type": "markdown",
   "id": "77ed75d8-6454-4a64-99c9-3fd99a32d021",
   "metadata": {},
   "source": [
    "Then to use the model:\n",
    "    "
   ]
  },
  {
   "cell_type": "code",
   "execution_count": 9,
   "id": "1c351a00-e1b0-4f3b-b401-48920e3cad49",
   "metadata": {
    "tags": []
   },
   "outputs": [
    {
     "name": "stderr",
     "output_type": "stream",
     "text": [
      "Attempting to cast a BatchEncoding to type {'': 0}. This is not supported.\n"
     ]
    },
    {
     "data": {
      "text/plain": [
       "[\"Today was an amazing day because I got to spend time with my favorite person in the whole world! 😍 We did so many fun things together, like going to the park, playing on the swings, and feeding the ducks. We even had a picnic lunch and took a nap together. 😴 It was just the best day ever! 😘 I'm so lucky to have such a wonderful person in my life. 💕 #\"]"
      ]
     },
     "execution_count": 9,
     "metadata": {},
     "output_type": "execute_result"
    }
   ],
   "source": [
    "prompt = \"Today was an amazing day because\"\n",
    "device_map={\"\": 0}\n",
    "inputs = tokenizer(prompt, return_tensors=\"pt\").to(device_map)\n",
    "tokenizer.pad_token = tokenizer.eos_token\n",
    "outputs = model.generate(input_ids=inputs[\"input_ids\"].to(\"cuda\"), do_sample=True, num_beams=1, max_new_tokens=100)\n",
    "tokenizer.batch_decode(outputs, skip_special_tokens=True)"
   ]
  },
  {
   "cell_type": "markdown",
   "id": "e67748ba-ef40-4103-b837-7e8f1317178b",
   "metadata": {},
   "source": [
    "To use it for zero-shot classification:"
   ]
  },
  {
   "cell_type": "code",
   "execution_count": 11,
   "id": "fc8bd5bd-b992-47b0-928d-93061f930a55",
   "metadata": {
    "tags": []
   },
   "outputs": [
    {
     "name": "stderr",
     "output_type": "stream",
     "text": [
      "Failed to determine 'entailment' label id from the label2id mapping in the model config. Setting to -1. Define a descriptive label2id mapping in the model config to ensure correct outputs.\n",
      "Asking to truncate to max_length but no maximum length is provided and the model has no predefined maximum length. Default to no truncation.\n"
     ]
    },
    {
     "data": {
      "text/plain": [
       "{'sequence': 'Today was an amazing day',\n",
       " 'labels': ['positive', 'negative'],\n",
       " 'scores': [0.8899121284484863, 0.11008787900209427]}"
      ]
     },
     "execution_count": 11,
     "metadata": {},
     "output_type": "execute_result"
    }
   ],
   "source": [
    "# To use it for zero-shot classification:\n",
    "from transformers import pipeline\n",
    "tokenizer.add_special_tokens({'pad_token': '[PAD]'})\n",
    "classifier = pipeline(\"zero-shot-classification\", model=model, tokenizer=tokenizer)\n",
    "classifier(\"Today was an amazing day\", candidate_labels=[\"negative\", \"positive\"])"
   ]
  }
 ],
 "metadata": {
  "kernelspec": {
   "display_name": "Python 3 (ipykernel)",
   "language": "python",
   "name": "python3"
  },
  "language_info": {
   "codemirror_mode": {
    "name": "ipython",
    "version": 3
   },
   "file_extension": ".py",
   "mimetype": "text/x-python",
   "name": "python",
   "nbconvert_exporter": "python",
   "pygments_lexer": "ipython3",
   "version": "3.10.9"
  }
 },
 "nbformat": 4,
 "nbformat_minor": 5
}
