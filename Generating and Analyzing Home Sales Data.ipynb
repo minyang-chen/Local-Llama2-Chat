{
 "cells": [
  {
   "cell_type": "markdown",
   "id": "b3ac1472",
   "metadata": {},
   "source": [
    "# Generating and Analyzing Home Sales Data"
   ]
  },
  {
   "cell_type": "markdown",
   "id": "528d7094",
   "metadata": {},
   "source": [
    "## Introduction"
   ]
  },
  {
   "cell_type": "markdown",
   "id": "ce06200f",
   "metadata": {},
   "source": [
    "This notebook was created by [Jupyter AI](https://github.com/jupyterlab/jupyter-ai) with the following prompt:\n",
    "\n",
    "> /generate home sales data 100 records"
   ]
  },
  {
   "cell_type": "markdown",
   "id": "d77c10b4",
   "metadata": {},
   "source": [
    "This Jupyter notebook provides a simple and efficient way to generate home sales data with 100 records. The notebook includes five sections: importing necessary libraries, defining a function for generating data, generating 100 records of home sales data, cleaning and preparing the generated data for analysis, and conducting exploratory data analysis by creating visualizations and calculating summary statistics. The generated data can be customized based on specified parameters such as number of records, price range, and location."
   ]
  },
  {
   "cell_type": "markdown",
   "id": "c8332661",
   "metadata": {},
   "source": [
    "## Define Functions"
   ]
  },
  {
   "cell_type": "code",
   "execution_count": null,
   "id": "87c9f154",
   "metadata": {},
   "outputs": [],
   "source": [
    "def generate_sales_data(num_records, price_range, location):\n",
    "    import random\n",
    "    sales_data = []\n",
    "    for i in range(num_records):\n",
    "        price = random.randint(price_range[0], price_range[1])\n",
    "        sales_data.append({'price': price, 'location': location})\n",
    "    return sales_data"
   ]
  },
  {
   "cell_type": "markdown",
   "id": "fcc3bdc3",
   "metadata": {},
   "source": [
    "## Generate Data"
   ]
  },
  {
   "cell_type": "code",
   "execution_count": null,
   "id": "b1b33105",
   "metadata": {},
   "outputs": [],
   "source": [
    "import numpy as np\n",
    "import pandas as pd"
   ]
  },
  {
   "cell_type": "code",
   "execution_count": null,
   "id": "0bfe10b5",
   "metadata": {},
   "outputs": [],
   "source": [
    "def generate_home_sales_data(num_records):\n",
    "    data = pd.DataFrame(columns=['Address', 'City', 'State', 'Zipcode', 'Price', 'Bedrooms', 'Bathrooms', 'Square Footage', 'Year Built'])\n",
    "    for i in range(num_records):\n",
    "        address = f\"{np.random.randint(1, 10000)} Main St\"\n",
    "        city = np.random.choice(['Los Angeles', 'San Francisco', 'New York', 'Chicago', 'Seattle'])\n",
    "        state = np.random.choice(['CA', 'NY', 'IL', 'WA'])\n",
    "        zipcode = f\"{np.random.randint(10000, 99999)}\"\n",
    "        price = np.random.randint(100000, 1000000)\n",
    "        bedrooms = np.random.randint(1, 6)\n",
    "        bathrooms = np.random.randint(1, 4)\n",
    "        square_footage = np.random.randint(1000, 5000)\n",
    "        year_built = np.random.randint(1900, 2021)\n",
    "        data.loc[i] = [address, city, state, zipcode, price, bedrooms, bathrooms, square_footage, year_built]\n",
    "    return data"
   ]
  },
  {
   "cell_type": "code",
   "execution_count": null,
   "id": "cdbf6cfe",
   "metadata": {},
   "outputs": [],
   "source": [
    "home_sales_data = generate_home_sales_data(100)"
   ]
  },
  {
   "cell_type": "markdown",
   "id": "e5ab5377",
   "metadata": {},
   "source": [
    "## Data Cleaning and Preparation"
   ]
  },
  {
   "cell_type": "code",
   "execution_count": null,
   "id": "87eb2ef4",
   "metadata": {},
   "outputs": [],
   "source": [
    "import pandas as pd\n",
    "def clean_data():\n",
    "    data = pd.read_csv('home_sales_data.csv')\n",
    "    data.drop_duplicates(inplace=True)\n",
    "    data.fillna(value=0, inplace=True)\n",
    "    data['price'] = data['price'].astype(int)\n",
    "    data['bedrooms'] = data['bedrooms'].astype(int)\n",
    "    data['bathrooms'] = data['bathrooms'].astype(int)\n",
    "    data.to_csv('cleaned_home_sales_data.csv', index=False)\n",
    "    return 'Data cleaning and preparation complete.'"
   ]
  },
  {
   "cell_type": "markdown",
   "id": "ecf1f451",
   "metadata": {},
   "source": [
    "## Data Analysis"
   ]
  },
  {
   "cell_type": "code",
   "execution_count": null,
   "id": "d05885e7",
   "metadata": {},
   "outputs": [],
   "source": [
    "# Import necessary libraries\n",
    "import pandas as pd\n",
    "import matplotlib.pyplot as plt"
   ]
  },
  {
   "cell_type": "code",
   "execution_count": null,
   "id": "d3d95254",
   "metadata": {},
   "outputs": [],
   "source": [
    "# Load the generated home sales data\n",
    "data = pd.read_csv('home_sales_data.csv')"
   ]
  },
  {
   "cell_type": "code",
   "execution_count": null,
   "id": "66ba0fab",
   "metadata": {},
   "outputs": [],
   "source": [
    "# Display the first 5 rows of the data\n",
    "data.head()"
   ]
  },
  {
   "cell_type": "code",
   "execution_count": null,
   "id": "a2a37a56",
   "metadata": {},
   "outputs": [],
   "source": [
    "# Calculate summary statistics for the data\n",
    "data.describe()"
   ]
  },
  {
   "cell_type": "code",
   "execution_count": null,
   "id": "90a7146c",
   "metadata": {},
   "outputs": [],
   "source": [
    "# Create a histogram of the sale prices\n",
    "plt.hist(data['Sale_Price'], bins=20)\n",
    "plt.xlabel('Sale Price')\n",
    "plt.ylabel('Frequency')\n",
    "plt.title('Distribution of Sale Prices')\n",
    "plt.show()"
   ]
  },
  {
   "cell_type": "code",
   "execution_count": null,
   "id": "0a95d30a",
   "metadata": {},
   "outputs": [],
   "source": [
    "# Create a scatter plot of the sale price vs. the square footage\n",
    "plt.scatter(data['Square_Footage'], data['Sale_Price'])\n",
    "plt.xlabel('Square Footage')\n",
    "plt.ylabel('Sale Price')\n",
    "plt.title('Sale Price vs. Square Footage')\n",
    "plt.show()"
   ]
  },
  {
   "cell_type": "code",
   "execution_count": null,
   "id": "906a1922",
   "metadata": {},
   "outputs": [],
   "source": [
    "# Create a box plot of the sale price by the number of bedrooms\n",
    "data.boxplot(column='Sale_Price', by='Bedrooms')\n",
    "plt.xlabel('Number of Bedrooms')\n",
    "plt.ylabel('Sale Price')\n",
    "plt.title('Sale Price by Number of Bedrooms')\n",
    "plt.show()"
   ]
  }
 ],
 "metadata": {},
 "nbformat": 4,
 "nbformat_minor": 5
}
